{
 "cells": [
  {
   "cell_type": "markdown",
   "metadata": {},
   "source": [
    "# `public_holyday_scraper`\n",
    "\n",
    "creates a file called `public_holydays.ics` in the same directory. I use it to import the public holydays in my private protonmail calendar.\n",
    "hard-coded for the canton of zurich"
   ]
  },
  {
   "cell_type": "code",
   "execution_count": 7,
   "metadata": {
    "ExecuteTime": {
     "end_time": "2021-05-02T16:20:25.718136Z",
     "start_time": "2021-05-02T16:20:25.151115Z"
    }
   },
   "outputs": [
    {
     "name": "stdout",
     "output_type": "stream",
     "text": [
      "Requirement already satisfied: requests in /home/sam/.local/opt/miniconda3/envs/py38/lib/python3.8/site-packages (2.23.0)\n",
      "Requirement already satisfied: beautifulsoup4 in /home/sam/.local/opt/miniconda3/envs/py38/lib/python3.8/site-packages (4.9.3)\n",
      "Requirement already satisfied: ics in /home/sam/.local/opt/miniconda3/envs/py38/lib/python3.8/site-packages (0.7)\n",
      "Requirement already satisfied: urllib3!=1.25.0,!=1.25.1,<1.26,>=1.21.1 in /home/sam/.local/opt/miniconda3/envs/py38/lib/python3.8/site-packages (from requests) (1.25.8)\n",
      "Requirement already satisfied: certifi>=2017.4.17 in /home/sam/.local/opt/miniconda3/envs/py38/lib/python3.8/site-packages (from requests) (2020.4.5.1)\n",
      "Requirement already satisfied: idna<3,>=2.5 in /home/sam/.local/opt/miniconda3/envs/py38/lib/python3.8/site-packages (from requests) (2.9)\n",
      "Requirement already satisfied: chardet<4,>=3.0.2 in /home/sam/.local/opt/miniconda3/envs/py38/lib/python3.8/site-packages (from requests) (3.0.4)\n",
      "Requirement already satisfied: soupsieve>1.2; python_version >= \"3.0\" in /home/sam/.local/opt/miniconda3/envs/py38/lib/python3.8/site-packages (from beautifulsoup4) (2.2.1)\n",
      "Requirement already satisfied: arrow<0.15,>=0.11 in /home/sam/.local/opt/miniconda3/envs/py38/lib/python3.8/site-packages (from ics) (0.14.7)\n",
      "Requirement already satisfied: six>1.5 in /home/sam/.local/opt/miniconda3/envs/py38/lib/python3.8/site-packages (from ics) (1.14.0)\n",
      "Requirement already satisfied: python-dateutil in /home/sam/.local/opt/miniconda3/envs/py38/lib/python3.8/site-packages (from ics) (2.8.1)\n",
      "Requirement already satisfied: tatsu>4.2 in /home/sam/.local/opt/miniconda3/envs/py38/lib/python3.8/site-packages (from ics) (5.6.1)\n"
     ]
    }
   ],
   "source": [
    "!pip install requests beautifulsoup4 ics"
   ]
  },
  {
   "cell_type": "markdown",
   "metadata": {},
   "source": [
    "# imports"
   ]
  },
  {
   "cell_type": "code",
   "execution_count": 68,
   "metadata": {
    "ExecuteTime": {
     "end_time": "2021-05-02T16:43:53.122282Z",
     "start_time": "2021-05-02T16:43:53.117250Z"
    }
   },
   "outputs": [],
   "source": [
    "from ics import Calendar, Event\n",
    "from bs4 import BeautifulSoup\n",
    "import requests\n",
    "from typing import Optional\n",
    "\n",
    "import locale\n",
    "from datetime import datetime, timedelta"
   ]
  },
  {
   "cell_type": "markdown",
   "metadata": {},
   "source": [
    "# lib"
   ]
  },
  {
   "cell_type": "code",
   "execution_count": 121,
   "metadata": {
    "ExecuteTime": {
     "end_time": "2021-05-02T17:32:52.807754Z",
     "start_time": "2021-05-02T17:32:52.794112Z"
    }
   },
   "outputs": [],
   "source": [
    "locale.setlocale(locale.LC_ALL, 'de_CH')\n",
    "\n",
    "def occurance_to_date(date:str, year:str) -> datetime:\n",
    "    return datetime.strptime(f\"{date} {year}\", '%d. %B %Y').replace(hour=0, minute=0, tzinfo=None)\n",
    "\n",
    "def row_to_dates(row:str, first_year, second_year):\n",
    "    name, first_year_occurance, second_year_occurance = [c.text.strip() for c in row.children if c != '\\n']\n",
    "    \n",
    "    if name:\n",
    "        return (name, occurance_to_date(first_year_occurance, first_year)), (name, occurance_to_date(second_year_occurance, second_year))\n",
    "    else:\n",
    "        None\n",
    "\n",
    "def flatten(ls):\n",
    "    return [item for sub in ls for item in sub] "
   ]
  },
  {
   "cell_type": "markdown",
   "metadata": {},
   "source": [
    "# execution"
   ]
  },
  {
   "cell_type": "code",
   "execution_count": 15,
   "metadata": {
    "ExecuteTime": {
     "end_time": "2021-05-02T16:22:45.233159Z",
     "start_time": "2021-05-02T16:22:45.123986Z"
    }
   },
   "outputs": [],
   "source": [
    "ZURICH_URL = 'https://www.zh.ch/de/wirtschaft-arbeit/arbeitsbedingungen/arbeitsssicherheit-gesundheitsschutz/arbeits-ruhezeiten/feiertage.html'\n",
    "raw_data  = BeautifulSoup(requests.get(ZURICH_URL).text, 'html.parser')"
   ]
  },
  {
   "cell_type": "code",
   "execution_count": 20,
   "metadata": {
    "ExecuteTime": {
     "end_time": "2021-05-02T16:25:07.041038Z",
     "start_time": "2021-05-02T16:25:07.020886Z"
    }
   },
   "outputs": [],
   "source": [
    "all_rows = raw_data.find_all(class_=\"mdl-table__row\")"
   ]
  },
  {
   "cell_type": "code",
   "execution_count": 60,
   "metadata": {
    "ExecuteTime": {
     "end_time": "2021-05-02T16:38:31.253467Z",
     "start_time": "2021-05-02T16:38:31.242434Z"
    }
   },
   "outputs": [],
   "source": [
    "first_year, second_year = [t.text for t in all_rows[0].find_all('th') if t.text != '\\xa0']"
   ]
  },
  {
   "cell_type": "code",
   "execution_count": 119,
   "metadata": {
    "ExecuteTime": {
     "end_time": "2021-05-02T17:28:49.636178Z",
     "start_time": "2021-05-02T17:28:49.608151Z"
    }
   },
   "outputs": [],
   "source": [
    "calendar = Calendar()\n",
    "\n",
    "for name, day in flatten(filter(lambda x: x is not None, [row_to_dates(row, first_year, second_year) for row in all_rows[1:]])):\n",
    "    e = Event(name=name, begin=day)\n",
    "    e.make_all_day()\n",
    "    calendar.events.add(e)\n",
    "\n",
    "open('public_holydays.ics', 'w').writelines(calendar)"
   ]
  }
 ],
 "metadata": {
  "hide_input": false,
  "kernelspec": {
   "display_name": "Python 3",
   "language": "python",
   "name": "python3"
  },
  "language_info": {
   "codemirror_mode": {
    "name": "ipython",
    "version": 3
   },
   "file_extension": ".py",
   "mimetype": "text/x-python",
   "name": "python",
   "nbconvert_exporter": "python",
   "pygments_lexer": "ipython3",
   "version": "3.8.2"
  },
  "toc": {
   "colors": {
    "hover_highlight": "#DAA520",
    "running_highlight": "#FF0000",
    "selected_highlight": "#FFD700"
   },
   "moveMenuLeft": true,
   "nav_menu": {
    "height": "67.7px",
    "width": "252px"
   },
   "navigate_menu": true,
   "number_sections": true,
   "sideBar": true,
   "threshold": 4,
   "toc_cell": false,
   "toc_section_display": "block",
   "toc_window_display": false
  }
 },
 "nbformat": 4,
 "nbformat_minor": 4
}
